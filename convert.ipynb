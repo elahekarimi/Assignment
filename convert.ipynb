{
  "nbformat": 4,
  "nbformat_minor": 0,
  "metadata": {
    "colab": {
      "provenance": [],
      "include_colab_link": true
    },
    "kernelspec": {
      "name": "python3",
      "display_name": "Python 3"
    },
    "language_info": {
      "name": "python"
    }
  },
  "cells": [
    {
      "cell_type": "markdown",
      "metadata": {
        "id": "view-in-github",
        "colab_type": "text"
      },
      "source": [
        "<a href=\"https://colab.research.google.com/github/elahekarimi/Revenue/blob/main/convert.ipynb\" target=\"_parent\"><img src=\"https://colab.research.google.com/assets/colab-badge.svg\" alt=\"Open In Colab\"/></a>"
      ]
    },
    {
      "cell_type": "code",
      "execution_count": null,
      "metadata": {
        "colab": {
          "base_uri": "https://localhost:8080/",
          "height": 290
        },
        "id": "paNn4dO0BiWg",
        "outputId": "f5b042c7-0015-4d8a-8acd-2a7214b7ada2"
      },
      "outputs": [
        {
          "output_type": "stream",
          "name": "stderr",
          "text": [
            "<ipython-input-2-d55b2e79cf7d>:4: DtypeWarning: Columns (16,17,18) have mixed types. Specify dtype option on import or set low_memory=False.\n",
            "  df = pd.read_csv(\"/content/drive/MyDrive/ds_task_ jeff.csv\")\n"
          ]
        },
        {
          "output_type": "execute_result",
          "data": {
            "text/plain": [
              "   redirect_id                                            lead_id  \\\n",
              "0      2279575  147296aa1ecc1d740ee65c1e6cf7befd79c6d84d4d21bf...   \n",
              "1      2283922  147296aa1ecc1d740ee65c1e6cf7befd79c6d84d4d21bf...   \n",
              "2      2419471  2e20d165e842cf76cec03efec7b65a517a158f503da99e...   \n",
              "3      2419675  2e20d165e842cf76cec03efec7b65a517a158f503da99e...   \n",
              "4      2419694  2e20d165e842cf76cec03efec7b65a517a158f503da99e...   \n",
              "\n",
              "    redirect_timestamp                                    lead_utm_source  \\\n",
              "0  2021-04-05 10:01:54  bbdefa2950f49882f295b1285d4fa9dec45fc4144bfb07...   \n",
              "1  2021-04-05 15:52:38  bbdefa2950f49882f295b1285d4fa9dec45fc4144bfb07...   \n",
              "2  2021-04-13 09:35:40  3d59f7548e1af2151b64135003ce63c0a484c26b9b8b16...   \n",
              "3  2021-04-13 09:45:34  3d59f7548e1af2151b64135003ce63c0a484c26b9b8b16...   \n",
              "4  2021-04-13 09:46:04  3d59f7548e1af2151b64135003ce63c0a484c26b9b8b16...   \n",
              "\n",
              "                                     lead_utm_medium  \\\n",
              "0  09076eb7665d1fb9389c7c4517fee0b00e43092eb34821...   \n",
              "1  09076eb7665d1fb9389c7c4517fee0b00e43092eb34821...   \n",
              "2  09076eb7665d1fb9389c7c4517fee0b00e43092eb34821...   \n",
              "3  09076eb7665d1fb9389c7c4517fee0b00e43092eb34821...   \n",
              "4  09076eb7665d1fb9389c7c4517fee0b00e43092eb34821...   \n",
              "\n",
              "                                   lead_utm_campaign  \\\n",
              "0  d7564dc9d7dc4e08a7d59c90425b182638d3776252e81a...   \n",
              "1  d7564dc9d7dc4e08a7d59c90425b182638d3776252e81a...   \n",
              "2  4044691b05bcbabb633c8b0aadfc1e49659fd19e6be1c1...   \n",
              "3  4044691b05bcbabb633c8b0aadfc1e49659fd19e6be1c1...   \n",
              "4  4044691b05bcbabb633c8b0aadfc1e49659fd19e6be1c1...   \n",
              "\n",
              "   lead_hour_of_registration  lead_weekday_of_registration  \\\n",
              "0                       12.0                           7.0   \n",
              "1                       12.0                           7.0   \n",
              "2                       10.0                           5.0   \n",
              "3                       10.0                           5.0   \n",
              "4                       10.0                           5.0   \n",
              "\n",
              "   lead_month_day_of_registration  \\\n",
              "0                             4.0   \n",
              "1                             4.0   \n",
              "2                             5.0   \n",
              "3                             5.0   \n",
              "4                             5.0   \n",
              "\n",
              "                                       lead_referrer  ... a_in_30d  \\\n",
              "0  0032185876273e288d2aae3d2e51fb7d3c1bbda279e3a0...  ...        0   \n",
              "1  0032185876273e288d2aae3d2e51fb7d3c1bbda279e3a0...  ...        0   \n",
              "2  248db24a5c41c07ad1e116ee114261e9037e9c2302a7ae...  ...        0   \n",
              "3  248db24a5c41c07ad1e116ee114261e9037e9c2302a7ae...  ...        0   \n",
              "4  248db24a5c41c07ad1e116ee114261e9037e9c2302a7ae...  ...        0   \n",
              "\n",
              "  b_cr_to_different_partner a_cr_to_different_partner  \\\n",
              "0                       NaN                       NaN   \n",
              "1                       0.0                       0.0   \n",
              "2                       0.0                       0.0   \n",
              "3                       0.0                       0.0   \n",
              "4                       0.0                       0.0   \n",
              "\n",
              "  non_converted_to_partner                                   redirect_partner  \\\n",
              "0                        0  d8eb2c7e1518a32ff1077264af8067d708354483a439ca...   \n",
              "1                        0  f00f2889a9ebe18418c7ee6d04ac36611b59b837644624...   \n",
              "2                        0  fa9f3d2f22b22b9cacb176e9acc31a9c8e93cf2b5676d0...   \n",
              "3                        1  d8eb2c7e1518a32ff1077264af8067d708354483a439ca...   \n",
              "4                        0  f00f2889a9ebe18418c7ee6d04ac36611b59b837644624...   \n",
              "\n",
              "  converted_to_b converted_to_a conversion_revenue expected_b_revenue  \\\n",
              "0              0              0                  0               50.0   \n",
              "1              0              0                  0               10.0   \n",
              "2              0              0                  0                NaN   \n",
              "3              0              0                  0               50.0   \n",
              "4              0              0                  0               10.0   \n",
              "\n",
              "  expected_a_revenue  \n",
              "0                NaN  \n",
              "1               70.0  \n",
              "2               80.0  \n",
              "3                NaN  \n",
              "4               70.0  \n",
              "\n",
              "[5 rows x 215 columns]"
            ],
            "text/html": [
              "\n",
              "  <div id=\"df-3e2fd826-e231-48b5-866f-1b79bf3c9b2c\" class=\"colab-df-container\">\n",
              "    <div>\n",
              "<style scoped>\n",
              "    .dataframe tbody tr th:only-of-type {\n",
              "        vertical-align: middle;\n",
              "    }\n",
              "\n",
              "    .dataframe tbody tr th {\n",
              "        vertical-align: top;\n",
              "    }\n",
              "\n",
              "    .dataframe thead th {\n",
              "        text-align: right;\n",
              "    }\n",
              "</style>\n",
              "<table border=\"1\" class=\"dataframe\">\n",
              "  <thead>\n",
              "    <tr style=\"text-align: right;\">\n",
              "      <th></th>\n",
              "      <th>redirect_id</th>\n",
              "      <th>lead_id</th>\n",
              "      <th>redirect_timestamp</th>\n",
              "      <th>lead_utm_source</th>\n",
              "      <th>lead_utm_medium</th>\n",
              "      <th>lead_utm_campaign</th>\n",
              "      <th>lead_hour_of_registration</th>\n",
              "      <th>lead_weekday_of_registration</th>\n",
              "      <th>lead_month_day_of_registration</th>\n",
              "      <th>lead_referrer</th>\n",
              "      <th>...</th>\n",
              "      <th>a_in_30d</th>\n",
              "      <th>b_cr_to_different_partner</th>\n",
              "      <th>a_cr_to_different_partner</th>\n",
              "      <th>non_converted_to_partner</th>\n",
              "      <th>redirect_partner</th>\n",
              "      <th>converted_to_b</th>\n",
              "      <th>converted_to_a</th>\n",
              "      <th>conversion_revenue</th>\n",
              "      <th>expected_b_revenue</th>\n",
              "      <th>expected_a_revenue</th>\n",
              "    </tr>\n",
              "  </thead>\n",
              "  <tbody>\n",
              "    <tr>\n",
              "      <th>0</th>\n",
              "      <td>2279575</td>\n",
              "      <td>147296aa1ecc1d740ee65c1e6cf7befd79c6d84d4d21bf...</td>\n",
              "      <td>2021-04-05 10:01:54</td>\n",
              "      <td>bbdefa2950f49882f295b1285d4fa9dec45fc4144bfb07...</td>\n",
              "      <td>09076eb7665d1fb9389c7c4517fee0b00e43092eb34821...</td>\n",
              "      <td>d7564dc9d7dc4e08a7d59c90425b182638d3776252e81a...</td>\n",
              "      <td>12.0</td>\n",
              "      <td>7.0</td>\n",
              "      <td>4.0</td>\n",
              "      <td>0032185876273e288d2aae3d2e51fb7d3c1bbda279e3a0...</td>\n",
              "      <td>...</td>\n",
              "      <td>0</td>\n",
              "      <td>NaN</td>\n",
              "      <td>NaN</td>\n",
              "      <td>0</td>\n",
              "      <td>d8eb2c7e1518a32ff1077264af8067d708354483a439ca...</td>\n",
              "      <td>0</td>\n",
              "      <td>0</td>\n",
              "      <td>0</td>\n",
              "      <td>50.0</td>\n",
              "      <td>NaN</td>\n",
              "    </tr>\n",
              "    <tr>\n",
              "      <th>1</th>\n",
              "      <td>2283922</td>\n",
              "      <td>147296aa1ecc1d740ee65c1e6cf7befd79c6d84d4d21bf...</td>\n",
              "      <td>2021-04-05 15:52:38</td>\n",
              "      <td>bbdefa2950f49882f295b1285d4fa9dec45fc4144bfb07...</td>\n",
              "      <td>09076eb7665d1fb9389c7c4517fee0b00e43092eb34821...</td>\n",
              "      <td>d7564dc9d7dc4e08a7d59c90425b182638d3776252e81a...</td>\n",
              "      <td>12.0</td>\n",
              "      <td>7.0</td>\n",
              "      <td>4.0</td>\n",
              "      <td>0032185876273e288d2aae3d2e51fb7d3c1bbda279e3a0...</td>\n",
              "      <td>...</td>\n",
              "      <td>0</td>\n",
              "      <td>0.0</td>\n",
              "      <td>0.0</td>\n",
              "      <td>0</td>\n",
              "      <td>f00f2889a9ebe18418c7ee6d04ac36611b59b837644624...</td>\n",
              "      <td>0</td>\n",
              "      <td>0</td>\n",
              "      <td>0</td>\n",
              "      <td>10.0</td>\n",
              "      <td>70.0</td>\n",
              "    </tr>\n",
              "    <tr>\n",
              "      <th>2</th>\n",
              "      <td>2419471</td>\n",
              "      <td>2e20d165e842cf76cec03efec7b65a517a158f503da99e...</td>\n",
              "      <td>2021-04-13 09:35:40</td>\n",
              "      <td>3d59f7548e1af2151b64135003ce63c0a484c26b9b8b16...</td>\n",
              "      <td>09076eb7665d1fb9389c7c4517fee0b00e43092eb34821...</td>\n",
              "      <td>4044691b05bcbabb633c8b0aadfc1e49659fd19e6be1c1...</td>\n",
              "      <td>10.0</td>\n",
              "      <td>5.0</td>\n",
              "      <td>5.0</td>\n",
              "      <td>248db24a5c41c07ad1e116ee114261e9037e9c2302a7ae...</td>\n",
              "      <td>...</td>\n",
              "      <td>0</td>\n",
              "      <td>0.0</td>\n",
              "      <td>0.0</td>\n",
              "      <td>0</td>\n",
              "      <td>fa9f3d2f22b22b9cacb176e9acc31a9c8e93cf2b5676d0...</td>\n",
              "      <td>0</td>\n",
              "      <td>0</td>\n",
              "      <td>0</td>\n",
              "      <td>NaN</td>\n",
              "      <td>80.0</td>\n",
              "    </tr>\n",
              "    <tr>\n",
              "      <th>3</th>\n",
              "      <td>2419675</td>\n",
              "      <td>2e20d165e842cf76cec03efec7b65a517a158f503da99e...</td>\n",
              "      <td>2021-04-13 09:45:34</td>\n",
              "      <td>3d59f7548e1af2151b64135003ce63c0a484c26b9b8b16...</td>\n",
              "      <td>09076eb7665d1fb9389c7c4517fee0b00e43092eb34821...</td>\n",
              "      <td>4044691b05bcbabb633c8b0aadfc1e49659fd19e6be1c1...</td>\n",
              "      <td>10.0</td>\n",
              "      <td>5.0</td>\n",
              "      <td>5.0</td>\n",
              "      <td>248db24a5c41c07ad1e116ee114261e9037e9c2302a7ae...</td>\n",
              "      <td>...</td>\n",
              "      <td>0</td>\n",
              "      <td>0.0</td>\n",
              "      <td>0.0</td>\n",
              "      <td>1</td>\n",
              "      <td>d8eb2c7e1518a32ff1077264af8067d708354483a439ca...</td>\n",
              "      <td>0</td>\n",
              "      <td>0</td>\n",
              "      <td>0</td>\n",
              "      <td>50.0</td>\n",
              "      <td>NaN</td>\n",
              "    </tr>\n",
              "    <tr>\n",
              "      <th>4</th>\n",
              "      <td>2419694</td>\n",
              "      <td>2e20d165e842cf76cec03efec7b65a517a158f503da99e...</td>\n",
              "      <td>2021-04-13 09:46:04</td>\n",
              "      <td>3d59f7548e1af2151b64135003ce63c0a484c26b9b8b16...</td>\n",
              "      <td>09076eb7665d1fb9389c7c4517fee0b00e43092eb34821...</td>\n",
              "      <td>4044691b05bcbabb633c8b0aadfc1e49659fd19e6be1c1...</td>\n",
              "      <td>10.0</td>\n",
              "      <td>5.0</td>\n",
              "      <td>5.0</td>\n",
              "      <td>248db24a5c41c07ad1e116ee114261e9037e9c2302a7ae...</td>\n",
              "      <td>...</td>\n",
              "      <td>0</td>\n",
              "      <td>0.0</td>\n",
              "      <td>0.0</td>\n",
              "      <td>0</td>\n",
              "      <td>f00f2889a9ebe18418c7ee6d04ac36611b59b837644624...</td>\n",
              "      <td>0</td>\n",
              "      <td>0</td>\n",
              "      <td>0</td>\n",
              "      <td>10.0</td>\n",
              "      <td>70.0</td>\n",
              "    </tr>\n",
              "  </tbody>\n",
              "</table>\n",
              "<p>5 rows × 215 columns</p>\n",
              "</div>\n",
              "    <div class=\"colab-df-buttons\">\n",
              "\n",
              "  <div class=\"colab-df-container\">\n",
              "    <button class=\"colab-df-convert\" onclick=\"convertToInteractive('df-3e2fd826-e231-48b5-866f-1b79bf3c9b2c')\"\n",
              "            title=\"Convert this dataframe to an interactive table.\"\n",
              "            style=\"display:none;\">\n",
              "\n",
              "  <svg xmlns=\"http://www.w3.org/2000/svg\" height=\"24px\" viewBox=\"0 -960 960 960\">\n",
              "    <path d=\"M120-120v-720h720v720H120Zm60-500h600v-160H180v160Zm220 220h160v-160H400v160Zm0 220h160v-160H400v160ZM180-400h160v-160H180v160Zm440 0h160v-160H620v160ZM180-180h160v-160H180v160Zm440 0h160v-160H620v160Z\"/>\n",
              "  </svg>\n",
              "    </button>\n",
              "\n",
              "  <style>\n",
              "    .colab-df-container {\n",
              "      display:flex;\n",
              "      gap: 12px;\n",
              "    }\n",
              "\n",
              "    .colab-df-convert {\n",
              "      background-color: #E8F0FE;\n",
              "      border: none;\n",
              "      border-radius: 50%;\n",
              "      cursor: pointer;\n",
              "      display: none;\n",
              "      fill: #1967D2;\n",
              "      height: 32px;\n",
              "      padding: 0 0 0 0;\n",
              "      width: 32px;\n",
              "    }\n",
              "\n",
              "    .colab-df-convert:hover {\n",
              "      background-color: #E2EBFA;\n",
              "      box-shadow: 0px 1px 2px rgba(60, 64, 67, 0.3), 0px 1px 3px 1px rgba(60, 64, 67, 0.15);\n",
              "      fill: #174EA6;\n",
              "    }\n",
              "\n",
              "    .colab-df-buttons div {\n",
              "      margin-bottom: 4px;\n",
              "    }\n",
              "\n",
              "    [theme=dark] .colab-df-convert {\n",
              "      background-color: #3B4455;\n",
              "      fill: #D2E3FC;\n",
              "    }\n",
              "\n",
              "    [theme=dark] .colab-df-convert:hover {\n",
              "      background-color: #434B5C;\n",
              "      box-shadow: 0px 1px 3px 1px rgba(0, 0, 0, 0.15);\n",
              "      filter: drop-shadow(0px 1px 2px rgba(0, 0, 0, 0.3));\n",
              "      fill: #FFFFFF;\n",
              "    }\n",
              "  </style>\n",
              "\n",
              "    <script>\n",
              "      const buttonEl =\n",
              "        document.querySelector('#df-3e2fd826-e231-48b5-866f-1b79bf3c9b2c button.colab-df-convert');\n",
              "      buttonEl.style.display =\n",
              "        google.colab.kernel.accessAllowed ? 'block' : 'none';\n",
              "\n",
              "      async function convertToInteractive(key) {\n",
              "        const element = document.querySelector('#df-3e2fd826-e231-48b5-866f-1b79bf3c9b2c');\n",
              "        const dataTable =\n",
              "          await google.colab.kernel.invokeFunction('convertToInteractive',\n",
              "                                                    [key], {});\n",
              "        if (!dataTable) return;\n",
              "\n",
              "        const docLinkHtml = 'Like what you see? Visit the ' +\n",
              "          '<a target=\"_blank\" href=https://colab.research.google.com/notebooks/data_table.ipynb>data table notebook</a>'\n",
              "          + ' to learn more about interactive tables.';\n",
              "        element.innerHTML = '';\n",
              "        dataTable['output_type'] = 'display_data';\n",
              "        await google.colab.output.renderOutput(dataTable, element);\n",
              "        const docLink = document.createElement('div');\n",
              "        docLink.innerHTML = docLinkHtml;\n",
              "        element.appendChild(docLink);\n",
              "      }\n",
              "    </script>\n",
              "  </div>\n",
              "\n",
              "\n",
              "<div id=\"df-60787ee4-8a6c-4350-aa4e-dc805c58a849\">\n",
              "  <button class=\"colab-df-quickchart\" onclick=\"quickchart('df-60787ee4-8a6c-4350-aa4e-dc805c58a849')\"\n",
              "            title=\"Suggest charts\"\n",
              "            style=\"display:none;\">\n",
              "\n",
              "<svg xmlns=\"http://www.w3.org/2000/svg\" height=\"24px\"viewBox=\"0 0 24 24\"\n",
              "     width=\"24px\">\n",
              "    <g>\n",
              "        <path d=\"M19 3H5c-1.1 0-2 .9-2 2v14c0 1.1.9 2 2 2h14c1.1 0 2-.9 2-2V5c0-1.1-.9-2-2-2zM9 17H7v-7h2v7zm4 0h-2V7h2v10zm4 0h-2v-4h2v4z\"/>\n",
              "    </g>\n",
              "</svg>\n",
              "  </button>\n",
              "\n",
              "<style>\n",
              "  .colab-df-quickchart {\n",
              "      --bg-color: #E8F0FE;\n",
              "      --fill-color: #1967D2;\n",
              "      --hover-bg-color: #E2EBFA;\n",
              "      --hover-fill-color: #174EA6;\n",
              "      --disabled-fill-color: #AAA;\n",
              "      --disabled-bg-color: #DDD;\n",
              "  }\n",
              "\n",
              "  [theme=dark] .colab-df-quickchart {\n",
              "      --bg-color: #3B4455;\n",
              "      --fill-color: #D2E3FC;\n",
              "      --hover-bg-color: #434B5C;\n",
              "      --hover-fill-color: #FFFFFF;\n",
              "      --disabled-bg-color: #3B4455;\n",
              "      --disabled-fill-color: #666;\n",
              "  }\n",
              "\n",
              "  .colab-df-quickchart {\n",
              "    background-color: var(--bg-color);\n",
              "    border: none;\n",
              "    border-radius: 50%;\n",
              "    cursor: pointer;\n",
              "    display: none;\n",
              "    fill: var(--fill-color);\n",
              "    height: 32px;\n",
              "    padding: 0;\n",
              "    width: 32px;\n",
              "  }\n",
              "\n",
              "  .colab-df-quickchart:hover {\n",
              "    background-color: var(--hover-bg-color);\n",
              "    box-shadow: 0 1px 2px rgba(60, 64, 67, 0.3), 0 1px 3px 1px rgba(60, 64, 67, 0.15);\n",
              "    fill: var(--button-hover-fill-color);\n",
              "  }\n",
              "\n",
              "  .colab-df-quickchart-complete:disabled,\n",
              "  .colab-df-quickchart-complete:disabled:hover {\n",
              "    background-color: var(--disabled-bg-color);\n",
              "    fill: var(--disabled-fill-color);\n",
              "    box-shadow: none;\n",
              "  }\n",
              "\n",
              "  .colab-df-spinner {\n",
              "    border: 2px solid var(--fill-color);\n",
              "    border-color: transparent;\n",
              "    border-bottom-color: var(--fill-color);\n",
              "    animation:\n",
              "      spin 1s steps(1) infinite;\n",
              "  }\n",
              "\n",
              "  @keyframes spin {\n",
              "    0% {\n",
              "      border-color: transparent;\n",
              "      border-bottom-color: var(--fill-color);\n",
              "      border-left-color: var(--fill-color);\n",
              "    }\n",
              "    20% {\n",
              "      border-color: transparent;\n",
              "      border-left-color: var(--fill-color);\n",
              "      border-top-color: var(--fill-color);\n",
              "    }\n",
              "    30% {\n",
              "      border-color: transparent;\n",
              "      border-left-color: var(--fill-color);\n",
              "      border-top-color: var(--fill-color);\n",
              "      border-right-color: var(--fill-color);\n",
              "    }\n",
              "    40% {\n",
              "      border-color: transparent;\n",
              "      border-right-color: var(--fill-color);\n",
              "      border-top-color: var(--fill-color);\n",
              "    }\n",
              "    60% {\n",
              "      border-color: transparent;\n",
              "      border-right-color: var(--fill-color);\n",
              "    }\n",
              "    80% {\n",
              "      border-color: transparent;\n",
              "      border-right-color: var(--fill-color);\n",
              "      border-bottom-color: var(--fill-color);\n",
              "    }\n",
              "    90% {\n",
              "      border-color: transparent;\n",
              "      border-bottom-color: var(--fill-color);\n",
              "    }\n",
              "  }\n",
              "</style>\n",
              "\n",
              "  <script>\n",
              "    async function quickchart(key) {\n",
              "      const quickchartButtonEl =\n",
              "        document.querySelector('#' + key + ' button');\n",
              "      quickchartButtonEl.disabled = true;  // To prevent multiple clicks.\n",
              "      quickchartButtonEl.classList.add('colab-df-spinner');\n",
              "      try {\n",
              "        const charts = await google.colab.kernel.invokeFunction(\n",
              "            'suggestCharts', [key], {});\n",
              "      } catch (error) {\n",
              "        console.error('Error during call to suggestCharts:', error);\n",
              "      }\n",
              "      quickchartButtonEl.classList.remove('colab-df-spinner');\n",
              "      quickchartButtonEl.classList.add('colab-df-quickchart-complete');\n",
              "    }\n",
              "    (() => {\n",
              "      let quickchartButtonEl =\n",
              "        document.querySelector('#df-60787ee4-8a6c-4350-aa4e-dc805c58a849 button');\n",
              "      quickchartButtonEl.style.display =\n",
              "        google.colab.kernel.accessAllowed ? 'block' : 'none';\n",
              "    })();\n",
              "  </script>\n",
              "</div>\n",
              "    </div>\n",
              "  </div>\n"
            ],
            "application/vnd.google.colaboratory.intrinsic+json": {
              "type": "dataframe",
              "variable_name": "df"
            }
          },
          "metadata": {},
          "execution_count": 2
        }
      ],
      "source": [
        "import pandas as pd\n",
        "\n",
        "# Load the dataset into a DataFrame\n",
        "df = pd.read_csv(\"/content/drive/MyDrive/ds_task_ jeff.csv\")\n",
        "\n",
        "# Display the first few rows of the DataFrame\n",
        "df.head(5)"
      ]
    },
    {
      "cell_type": "code",
      "source": [
        "from google.colab import drive\n",
        "drive.mount('/content/drive')"
      ],
      "metadata": {
        "id": "EHkknrQlp4o8",
        "colab": {
          "base_uri": "https://localhost:8080/"
        },
        "outputId": "69b9f95f-891a-4f00-e691-2d14d83b7422"
      },
      "execution_count": null,
      "outputs": [
        {
          "output_type": "stream",
          "name": "stdout",
          "text": [
            "Mounted at /content/drive\n"
          ]
        }
      ]
    },
    {
      "cell_type": "code",
      "source": [
        "df.shape"
      ],
      "metadata": {
        "colab": {
          "base_uri": "https://localhost:8080/"
        },
        "id": "_nBWOKuFCJc7",
        "outputId": "d82fdf08-b0a7-4f6e-c100-e5908d586ae9"
      },
      "execution_count": null,
      "outputs": [
        {
          "output_type": "execute_result",
          "data": {
            "text/plain": [
              "(314151, 215)"
            ]
          },
          "metadata": {},
          "execution_count": 3
        }
      ]
    },
    {
      "cell_type": "code",
      "source": [
        "df.info()"
      ],
      "metadata": {
        "colab": {
          "base_uri": "https://localhost:8080/"
        },
        "id": "q5VcfzbPa9eW",
        "outputId": "2d703fec-cfc5-4c0f-fe0a-381b894a162c"
      },
      "execution_count": 41,
      "outputs": [
        {
          "output_type": "stream",
          "name": "stdout",
          "text": [
            "<class 'pandas.core.frame.DataFrame'>\n",
            "RangeIndex: 314151 entries, 0 to 314150\n",
            "Columns: 197 entries, redirect_id to expected_a_revenue\n",
            "dtypes: float64(100), int64(97)\n",
            "memory usage: 472.2 MB\n"
          ]
        }
      ]
    },
    {
      "cell_type": "markdown",
      "source": [
        "# Handeling missing Values"
      ],
      "metadata": {
        "id": "tVow7LzESXSa"
      }
    },
    {
      "cell_type": "code",
      "source": [
        "def columns_with_missing_values(df, threshold=0.5):\n",
        "\n",
        "    # Calculate the proportion of missing values for each column\n",
        "    missing_proportion = df.isnull().mean()\n",
        "\n",
        "    # Filter columns with missing values exceeding the threshold\n",
        "    columns_to_drop = missing_proportion[missing_proportion > threshold].index.tolist()\n",
        "\n",
        "    return columns_to_drop\n",
        "\n",
        "# Call the function to identify columns with more than 50% missing values\n",
        "columns_to_drop = columns_with_missing_values(df, threshold=0.5)\n",
        "\n",
        "# Print the identified columns\n",
        "print(\"Columns with more than 50% missing values:\", columns_to_drop)\n"
      ],
      "metadata": {
        "colab": {
          "base_uri": "https://localhost:8080/"
        },
        "id": "_hVIuSc65Mku",
        "outputId": "07360be5-4f39-4e16-a5dc-343f40638168"
      },
      "execution_count": null,
      "outputs": [
        {
          "output_type": "stream",
          "name": "stdout",
          "text": [
            "Columns with more than 50% missing values: ['time_since_revenue_from_1', 'time_since_revenue_from_2', 'time_since_revenue_from_3', 'time_since_revenue_from_4', 'time_since_revenue_from_5', 'time_since_revenue_from_6', 'time_since_revenue_from_7', 'time_since_revenue_from_8', 'time_since_revenue_from_9', 'time_since_revenue_from_10', 'time_since_revenue_from_11', 'time_since_revenue_from_12', 'time_since_revenue_from_13', 'time_since_revenue_from_14', 'time_since_revenue_from_15', 'time_since_revenue_from_16', 'time_since_revenue_from_17', 'time_since_revenue_from_18']\n"
          ]
        }
      ]
    },
    {
      "cell_type": "code",
      "source": [
        "def drop_columns_with_missing_values(df, threshold=0.5):\n",
        "\n",
        "    # Calculate the proportion of missing values in each column\n",
        "    missing_value_counts = df.isnull().mean()\n",
        "\n",
        "    # Get names of columns with missing values exceeding the threshold\n",
        "    columns_to_drop = missing_value_counts[missing_value_counts > threshold].index.tolist()\n",
        "\n",
        "    # Drop columns from DataFrame\n",
        "    df_dropped = df.drop(columns=columns_to_drop)\n",
        "\n",
        "    return df_dropped\n",
        "\n",
        "# Example usage:\n",
        "# Replace 'df' with your DataFrame name\n",
        "df_cleaned = drop_columns_with_missing_values(df, threshold=0.5)"
      ],
      "metadata": {
        "id": "41sMfN_h5xXA"
      },
      "execution_count": null,
      "outputs": []
    },
    {
      "cell_type": "code",
      "source": [
        "df_cleaned.shape"
      ],
      "metadata": {
        "colab": {
          "base_uri": "https://localhost:8080/"
        },
        "id": "abk-Wszi51Ui",
        "outputId": "e6bf75f1-9fdb-47ad-f280-91a3ea8f41b8"
      },
      "execution_count": null,
      "outputs": [
        {
          "output_type": "execute_result",
          "data": {
            "text/plain": [
              "(314151, 197)"
            ]
          },
          "metadata": {},
          "execution_count": 18
        }
      ]
    },
    {
      "cell_type": "markdown",
      "source": [
        "# Imputation datas"
      ],
      "metadata": {
        "id": "iuGmRprmS1Eb"
      }
    },
    {
      "cell_type": "code",
      "source": [
        "import numpy as np\n",
        "from sklearn.impute import SimpleImputer\n",
        "df = df_cleaned\n",
        "def impute_missing_values(df):\n",
        "\n",
        "    # Identify binary and categorical columns\n",
        "    binary_cols = [col for col in df.columns if len(df[col].unique()) == 2 and df[col].dtype != 'object']\n",
        "    categorical_cols = [col for col in df.columns if df[col].dtype == 'object']\n",
        "\n",
        "    # Impute binary and categorical columns with mode\n",
        "    imputer_mode = SimpleImputer(strategy='most_frequent')\n",
        "    df[binary_cols + categorical_cols] = imputer_mode.fit_transform(df[binary_cols + categorical_cols])\n",
        "\n",
        "    # Impute numerical columns with mean\n",
        "    numerical_cols = [col for col in df.columns if col not in binary_cols + categorical_cols]\n",
        "    imputer_mean = SimpleImputer(strategy='mean')\n",
        "    df[numerical_cols] = imputer_mean.fit_transform(df[numerical_cols])\n",
        "\n",
        "    return df\n",
        "\n",
        "df = impute_missing_values(df)\n",
        "\n",
        "\n",
        "\n",
        "\n"
      ],
      "metadata": {
        "id": "Ih9Dl7tJyDJP"
      },
      "execution_count": null,
      "outputs": []
    },
    {
      "cell_type": "markdown",
      "source": [
        "# Finding if there is missing values"
      ],
      "metadata": {
        "id": "mIM9qlltS9S8"
      }
    },
    {
      "cell_type": "code",
      "source": [
        "import seaborn as sns\n",
        "sns.heatmap(df.isnull(), yticklabels=False, cbar= False, cmap='Blues')"
      ],
      "metadata": {
        "colab": {
          "base_uri": "https://localhost:8080/",
          "height": 609
        },
        "id": "ZulTVPfZ6FGS",
        "outputId": "7a19b33e-1f51-4b50-dbb9-2f91e23b193c"
      },
      "execution_count": null,
      "outputs": [
        {
          "output_type": "execute_result",
          "data": {
            "text/plain": [
              "<Axes: >"
            ]
          },
          "metadata": {},
          "execution_count": 20
        },
        {
          "output_type": "display_data",
          "data": {
            "text/plain": [
              "<Figure size 640x480 with 1 Axes>"
            ],
            "image/png": "[encoded data removed]"
          },
          "metadata": {}
        }
      ]
    },
    {
      "cell_type": "markdown",
      "source": [
        "# Encode the categorical variables"
      ],
      "metadata": {
        "id": "NvGiLiE-TC0M"
      }
    },
    {
      "cell_type": "code",
      "source": [
        "from sklearn.preprocessing import LabelEncoder\n",
        "\n",
        "# Initialize LabelEncoder\n",
        "label_encoder = LabelEncoder()\n",
        "\n",
        "# Encode categorical variables\n",
        "for col in df.select_dtypes(include=['object']):\n",
        "    df[col] = label_encoder.fit_transform(df[col])\n",
        "\n",
        "# Display the encoded DataFrame\n",
        "print(df.head())"
      ],
      "metadata": {
        "colab": {
          "base_uri": "https://localhost:8080/"
        },
        "id": "rTFSDfXE6shM",
        "outputId": "30065857-0458-491a-d637-0421413e1c95"
      },
      "execution_count": null,
      "outputs": [
        {
          "output_type": "stream",
          "name": "stdout",
          "text": [
            "   redirect_id  lead_id  redirect_timestamp  lead_utm_source  lead_utm_medium  \\\n",
            "0    2279575.0     5256               68015               14                0   \n",
            "1    2283922.0     5256               71923               14                0   \n",
            "2    2419471.0    11949              191331                3                0   \n",
            "3    2419675.0    11949              191507                3                0   \n",
            "4    2419694.0    11949              191523                3                0   \n",
            "\n",
            "   lead_utm_campaign  lead_hour_of_registration  lead_weekday_of_registration  \\\n",
            "0                199                       12.0                           7.0   \n",
            "1                199                       12.0                           7.0   \n",
            "2                 69                       10.0                           5.0   \n",
            "3                 69                       10.0                           5.0   \n",
            "4                 69                       10.0                           5.0   \n",
            "\n",
            "   lead_month_day_of_registration  lead_referrer  ...  a_in_30d  \\\n",
            "0                             4.0              0  ...       0.0   \n",
            "1                             4.0              0  ...       0.0   \n",
            "2                             5.0             59  ...       0.0   \n",
            "3                             5.0             59  ...       0.0   \n",
            "4                             5.0             59  ...       0.0   \n",
            "\n",
            "   b_cr_to_different_partner  a_cr_to_different_partner  \\\n",
            "0                   0.062345                   0.011295   \n",
            "1                   0.000000                   0.000000   \n",
            "2                   0.000000                   0.000000   \n",
            "3                   0.000000                   0.000000   \n",
            "4                   0.000000                   0.000000   \n",
            "\n",
            "   non_converted_to_partner  redirect_partner  converted_to_b  converted_to_a  \\\n",
            "0                       0.0                 8               0               0   \n",
            "1                       0.0                 9               0               0   \n",
            "2                       0.0                10               0               0   \n",
            "3                       1.0                 8               0               0   \n",
            "4                       0.0                 9               0               0   \n",
            "\n",
            "   conversion_revenue  expected_b_revenue  expected_a_revenue  \n",
            "0                 0.0           50.000000           75.401312  \n",
            "1                 0.0           10.000000           70.000000  \n",
            "2                 0.0           27.176525           80.000000  \n",
            "3                 0.0           50.000000           75.401312  \n",
            "4                 0.0           10.000000           70.000000  \n",
            "\n",
            "[5 rows x 197 columns]\n"
          ]
        }
      ]
    },
    {
      "cell_type": "markdown",
      "source": [
        "# Finding correlation"
      ],
      "metadata": {
        "id": "1Y19KaZxUDPx"
      }
    },
    {
      "cell_type": "code",
      "source": [
        "import numpy as np\n",
        "from scipy.stats import pearsonr\n",
        "from scipy.stats import chi2_contingency\n",
        "\n",
        "def pearson_correlation(df, converted_to_a):\n",
        "    \"\"\"\n",
        "    Calculate Pearson correlation coefficient for numerical features.\n",
        "    \"\"\"\n",
        "    numerical_cols = df.select_dtypes(include=['float64', 'int64']).columns\n",
        "    correlations = {}\n",
        "    for col in numerical_cols:\n",
        "        corr, _ = pearsonr(df[col], df[converted_to_a])\n",
        "        correlations[col] = corr\n",
        "    return correlations\n",
        "\n",
        "\n",
        "# Calculate correlations for numerical features\n",
        "numerical_correlations = pearson_correlation(df, 'converted_to_a')\n",
        "\n",
        "print(\"Pearson Correlation Coefficients for Numerical Features:\")\n",
        "print(numerical_correlations)"
      ],
      "metadata": {
        "colab": {
          "base_uri": "https://localhost:8080/"
        },
        "id": "j3rU8Sdg68n1",
        "outputId": "9632a94c-e872-4ac2-a684-5c1d0b7205ef"
      },
      "execution_count": null,
      "outputs": [
        {
          "output_type": "stream",
          "name": "stderr",
          "text": [
            "/usr/local/lib/python3.10/dist-packages/scipy/stats/_stats_py.py:4781: ConstantInputWarning: An input array is constant; the correlation coefficient is not defined.\n",
            "  warnings.warn(stats.ConstantInputWarning(msg))\n"
          ]
        },
        {
          "output_type": "stream",
          "name": "stdout",
          "text": [
            "Pearson Correlation Coefficients for Numerical Features:\n",
            "{'redirect_id': 0.005045655206371688, 'lead_id': 0.0007839056604846403, 'redirect_timestamp': 0.0050152069415838815, 'lead_utm_source': 0.00576909413709328, 'lead_utm_medium': -0.005306420882006303, 'lead_utm_campaign': 0.0006565569369077456, 'lead_hour_of_registration': -0.009783159022723417, 'lead_weekday_of_registration': 0.0014545870951660918, 'lead_month_day_of_registration': -0.005722168278394156, 'lead_referrer': -0.009202958267250587, 'lead_brand': -0.00554275402213735, 'lead_ip_country_code': -0.0011290118473919761, 'lead_ip_region_name': -0.0032040285723554255, 'lead_ip_city': 0.0007333511889355746, 'lead_ip_isp': 0.0004253079424364055, 'lead_ip_as_name': -1.1376326345586359e-05, 'lead_ip_is_hosting': -0.0008885359952231207, 'lead_ip_is_mobile': -0.00021744082242280082, 'lead_ip_is_proxy': -0.003129116774943805, 'lead_ua_device_class': -0.0035851616168261873, 'lead_ua_device_name': -0.016202270224358876, 'lead_ua_device_brand': -0.019405880616465032, 'lead_ua_os_class': -0.0014269702136241952, 'lead_ua_os_name': 0.02309931275705574, 'lead_ua_os_version': 0.0021453761373705716, 'lead_ua_os_version_name': 0.02334381440454488, 'lead_ua_layout_engine_class': -0.0019328186739570453, 'lead_ua_layout_engine_version': -0.018755914858060926, 'lead_ua_agent_class': 0.0009088225015540094, 'lead_ua_agent_name': 0.017988098792313188, 'lead_ua_agent_version': -0.014215415929250153, 'redirect_utm_source': 0.015644630656750133, 'redirect_utm_medium': -0.019126242203663383, 'redirect_utm_campaign': 0.005162817010164126, 'redirect_hour': -0.010529251880282704, 'redirect_weekday': 0.0024483367631164734, 'redirect_month_day': 0.005323460929574604, 'redirect_referrer': -0.012463852431281452, 'redirect_brand': -0.005637581014034715, 'hours_since_registration': -0.006414711798230158, 'ip_matches_lead': 0.00522167106890346, 'ua_matches_lead': 0.011265120802279446, 'redirect_ip_country_code': -0.0023042310243923648, 'lredirect_ip_region_name': -0.002332792432084952, 'redirect_ip_city': -0.002082348909110106, 'redirect_ip_isp': -0.0038572634234993516, 'redirect_ip_as_name': -0.0023263108892612374, 'redirect_ip_is_hosting': -0.0021215748207626976, 'redirect_ip_is_mobile': 0.0020212503259205827, 'redirect_ip_is_proxy': -0.0018411751602686178, 'redirect_ua_device_class': 0.0055199353333520475, 'redirect_ua_device_name': -0.015879069197862524, 'redirect_ua_device_brand': -0.024995795985547686, 'redirect_ua_os_class': 0.00926940488548498, 'redirect_ua_os_name': 0.023233901590016634, 'redirect_ua_os_version': 0.002974843849429805, 'redirect_ua_os_version_name': 0.025455588375607047, 'redirect_ua_layout_engine_class': -0.0015036789703078695, 'redirect_ua_layout_engine_version': -0.016119179247293933, 'redirect_ua_agent_class': -0.0015570059744756362, 'redirect_ua_agent_name': 0.018391319958220104, 'redirect_ua_agent_version': -0.010425205109690566, 'previous_redirect_count': -0.021925431396907474, 'has_previous_redirect': -0.021925431396907474, 'different_redirect_partners': -0.023761234809956663, 'different_redirect_sources': -0.025265213029837922, 'different_ips': -0.01989154403851924, 'different_uas': -0.019125834575443194, 'redirects_to_1': -0.004163995238432727, 'redirects_to_2': -0.016537292170425162, 'redirects_to_3': -0.01749624386524253, 'redirects_to_4': -0.00572164450191715, 'redirects_to_5': -0.0073455727454583095, 'redirects_to_6': -0.0036917922237654933, 'redirects_to_7': nan, 'redirects_to_8': -0.015856459537970914, 'redirects_to_atm_9': -0.017697890926668867, 'redirects_to_10': -0.002637549203857066, 'redirects_to_11': -0.0026819511244456605, 'redirects_to_12': -0.002716800400534684, 'redirects_to_13': -0.016644923726962347, 'redirects_to_14': -0.013938408277963419, 'redirects_to_15': -0.012639795153658472, 'redirects_to_16': -0.018855361459195523, 'redirects_to_on_17': -0.016032683330497136, 'redirects_to_18': -0.00685498475527527, 'has_redirect_to_same_partner': -0.019626437145094443, 'previous_postback_count': 0.0005885459893589437, 'different_postback_partners': -0.0022870642663316383, 'hours_since_last_revenue': 0.002165484480071467, 'has_postback_from_1': -0.0015563067017684072, 'has_postback_from_2': 0.009287229378269554, 'has_postback_from_3': -0.0015621616179903163, 'has_postback_from_4': -0.000514704599237162, 'has_postback_from_5': -0.00043770694852964356, 'has_postback_from_6': 0.001853112128528798, 'has_postback_from_7': nan, 'has_postback_from_8': 0.0014172776659613904, 'has_postback_from_atm_9': 0.00065668896857593, 'has_postback_from_10': -0.0010572079468890046, 'has_postback_from_11': -0.001455762815050583, 'has_postback_from_12': -0.002269110102236737, 'has_postback_from_13': -0.004638041999166868, 'has_postback_from_14': -0.009477238006464415, 'has_postback_from_15': 0.009503497580198372, 'has_postback_from_16': 0.0020233937681667746, 'has_postback_from_17': 0.002189132499892821, 'has_postback_from_18': -0.003920362955323485, 'has_a_postback_from_1': nan, 'has_a_postback_from_2': nan, 'has_a_postback_from_3': 0.006222293769548344, 'has_a_postback_from_4': -0.0007780567337259413, 'has_a_postback_from_5': nan, 'has_a_postback_from_6': 0.001853112128528798, 'has_a_postback_from_7': nan, 'has_a_postback_from_8': -0.00037375446689883075, 'has_a_postback_from_9': nan, 'has_a_postback_from_10': -0.0010572079468890046, 'has_a_postback_from_11': -0.0009155514503787765, 'has_a_postback_from_12': nan, 'has_a_postback_from_13': 0.003911066617773476, 'has_a_postback_from_14': -0.001768588448457144, 'has_a_postback_from_15': 0.015899157626224014, 'has_a_postback_from_16': -0.0010897502124349021, 'has_a_postback_from_17': 0.002203937586520162, 'has_a_postback_from_18': nan, 'has_b_postback_from_1': -0.0015563067017684072, 'has_b_postback_from_2': 0.009333136672224764, 'has_b_postback_from_3': 0.005969659038871675, 'has_b_postback_from_4': -0.0008171448103091847, 'has_b_postback_from_5': -0.0006902586797630898, 'has_b_postback_from_6': 0.001853112128528798, 'has_b_postback_from_7': nan, 'has_b_postback_from_8': 0.001429611027315003, 'has_b_postback_from_9': 0.005495772312480049, 'has_b_postback_from_10': -0.0010572079468890046, 'has_b_postback_from_11': -0.001876078512772718, 'has_b_postback_from_12': nan, 'has_b_postback_from_13': -0.0045042408341903735, 'has_b_postback_from_14': -0.010185084143289882, 'has_b_postback_from_15': 0.007461899128411841, 'has_b_postback_from_16': 0.008083327986672603, 'has_b_postback_from_17': 0.0021810528334623835, 'has_b_postback_from_18': -0.0022500689472961404, 'revenue_from_1': -0.0015563067017684072, 'revenue_from_2': 0.00854713417901497, 'revenue_from_3': 0.005816024160238527, 'revenue_from_4': -0.0006984956156493185, 'revenue_from_5': -0.0007946651647728772, 'revenue_from_6': 0.001559283135754784, 'revenue_from_7': nan, 'revenue_from_8': 0.0013183180560880367, 'revenue_from_9': 0.006525911157054669, 'revenue_from_10': -0.0010572079468890046, 'revenue_from_11': -0.0009155514503787765, 'revenue_from_12': nan, 'revenue_from_13': 0.003461151673789717, 'revenue_from_14': -0.004490923464246658, 'revenue_from_15': 0.007743530733468425, 'revenue_from_16': 0.008239277019181857, 'revenue_from_17': 0.002109442080109273, 'revenue_from_18': -0.0021836410989794193, 'revenue_count_from_1': -0.0015563067017684072, 'revenue_count_from_2': 0.009333136672224764, 'revenue_count_from_3': 0.005672432015318867, 'revenue_count_from_4': -0.000609340598708152, 'revenue_count_from_5': -0.0006902586797630898, 'revenue_count_from_6': 0.001853112128528798, 'revenue_count_from_7': nan, 'revenue_count_from_8': 0.001429611027315003, 'revenue_count_from_9': 0.005495772312480049, 'revenue_count_from_10': -0.0010572079468890046, 'revenue_count_from_11': -0.0009155514503787765, 'revenue_count_from_12': nan, 'revenue_count_from_13': 0.0038215953003976405, 'revenue_count_from_14': -0.008892707616358958, 'revenue_count_from_15': 0.007362459067088578, 'revenue_count_from_16': 0.008145574001415141, 'revenue_count_from_17': 0.002203937586520162, 'revenue_count_from_18': -0.0022500689472961404, 'b_count': 0.004663065850848436, 'a_count': 0.01096222805793286, 'b_in_1d': 0.013019961763922715, 'b_in_7d': 0.009289158708946286, 'b_in_30d': 0.0052586205759273304, 'a_in_1d': 0.011445688584170983, 'a_in_7d': 0.01116907164689479, 'a_in_30d': 0.01037235157257138, 'b_cr_to_different_partner': 0.02662294045350309, 'a_cr_to_different_partner': 0.020159329622070534, 'non_converted_to_partner': -0.019546008767322202, 'redirect_partner': 0.039460253350358465, 'converted_to_b': 0.10854956972888813, 'converted_to_a': 1.0, 'conversion_revenue': 0.8241218304276262, 'expected_b_revenue': -0.03189128970657111, 'expected_a_revenue': 0.0018807016394169845}\n"
          ]
        }
      ]
    },
    {
      "cell_type": "code",
      "source": [
        "sorted_correlation_values = sorted(numerical_correlations.items(), key=lambda x: abs(x[1]), reverse=True)\n",
        "\n",
        "# Select the top features with highest absolute correlation values\n",
        "top_features = [feature for feature, correlation in sorted_correlation_values[:5]]  # Change 5 to select different number of features\n",
        "\n",
        "print(\"Top Features with Highest Absolute Correlation Values:\")\n",
        "for feature in top_features:\n",
        "    print(feature)"
      ],
      "metadata": {
        "colab": {
          "base_uri": "https://localhost:8080/"
        },
        "id": "ds5Gtu7pU9A9",
        "outputId": "dde71dd5-bb66-4c74-cb12-4448f277baf2"
      },
      "execution_count": 36,
      "outputs": [
        {
          "output_type": "stream",
          "name": "stdout",
          "text": [
            "Top Features with Highest Absolute Correlation Values:\n",
            "redirect_ua_os_version_name\n",
            "different_redirect_sources\n",
            "redirect_ua_device_brand\n",
            "different_redirect_partners\n",
            "lead_ua_os_version_name\n"
          ]
        }
      ]
    },
    {
      "cell_type": "code",
      "source": [
        "def select_features(numerical_correlations, threshold_corr=0.03, threshold_cramer_v=0.03):\n",
        "\n",
        "    selected_numerical_features = [feat for feat, corr in numerical_correlations.items() if abs(corr) > threshold_corr]\n",
        "\n",
        "    return selected_numerical_features,\n",
        "\n",
        "# Example usage:\n",
        "selected_numerical_features = select_features(numerical_correlations)\n",
        "\n",
        "print(\"Selected Numerical Features:\", selected_numerical_features)"
      ],
      "metadata": {
        "colab": {
          "base_uri": "https://localhost:8080/"
        },
        "id": "Yg6mSB2k7Owh",
        "outputId": "2c4310a7-2767-4d4d-d18d-76144c3ba501"
      },
      "execution_count": null,
      "outputs": [
        {
          "output_type": "stream",
          "name": "stdout",
          "text": [
            "Selected Numerical Features: (['redirect_partner', 'converted_to_b', 'converted_to_a', 'conversion_revenue', 'expected_b_revenue'],)\n"
          ]
        }
      ]
    },
    {
      "cell_type": "markdown",
      "source": [
        "# LogisticRegression model"
      ],
      "metadata": {
        "id": "-l7oMFSMbSVb"
      }
    },
    {
      "cell_type": "code",
      "source": [
        "from sklearn.model_selection import train_test_split\n",
        "from sklearn.linear_model import LogisticRegression\n",
        "from sklearn.metrics import accuracy_score, classification_report\n",
        "\n",
        "# Step 1: Prepare the data\n",
        "#X = df[['redirect_partner', 'converted_to_b','conversion_revenue', 'expected_b_revenue']]\n",
        "X = df[['redirect_partner', 'converted_to_b','conversion_revenue', 'expected_b_revenue','redirect_ua_os_version_name', 'different_redirect_sources','redirect_ua_device_brand','different_redirect_partners','lead_ua_os_version_name']]\n",
        "y = df['converted_to_a']\n",
        "\n",
        "# Step 2: Split the data into training and testing sets\n",
        "X_train, X_test, y_train, y_test = train_test_split(X, y, test_size=0.2, random_state=42)\n",
        "\n",
        "# Step 3: Initialize the Logistic Regression model\n",
        "model = LogisticRegression()\n",
        "\n",
        "# Step 4: Train the model\n",
        "model.fit(X_train, y_train)\n",
        "\n",
        "# Step 5: Evaluate the model\n",
        "y_pred = model.predict(X_test)\n",
        "accuracy = accuracy_score(y_test, y_pred)\n",
        "print(\"Accuracy:\", accuracy)\n",
        "print(\"Classification Report:\")\n",
        "print(classification_report(y_test, y_pred))\n"
      ],
      "metadata": {
        "colab": {
          "base_uri": "https://localhost:8080/"
        },
        "id": "7sQ1PbPw8q35",
        "outputId": "e8ceb6cd-fc31-46c8-d417-99a5be5004d1"
      },
      "execution_count": 38,
      "outputs": [
        {
          "output_type": "stream",
          "name": "stderr",
          "text": [
            "/usr/local/lib/python3.10/dist-packages/sklearn/linear_model/_logistic.py:458: ConvergenceWarning: lbfgs failed to converge (status=1):\n",
            "STOP: TOTAL NO. of ITERATIONS REACHED LIMIT.\n",
            "\n",
            "Increase the number of iterations (max_iter) or scale the data as shown in:\n",
            "    https://scikit-learn.org/stable/modules/preprocessing.html\n",
            "Please also refer to the documentation for alternative solver options:\n",
            "    https://scikit-learn.org/stable/modules/linear_model.html#logistic-regression\n",
            "  n_iter_i = _check_optimize_result(\n"
          ]
        },
        {
          "output_type": "stream",
          "name": "stdout",
          "text": [
            "Accuracy: 0.9999840842896023\n",
            "Classification Report:\n",
            "              precision    recall  f1-score   support\n",
            "\n",
            "           0       1.00      1.00      1.00     62341\n",
            "           1       1.00      1.00      1.00       490\n",
            "\n",
            "    accuracy                           1.00     62831\n",
            "   macro avg       1.00      1.00      1.00     62831\n",
            "weighted avg       1.00      1.00      1.00     62831\n",
            "\n"
          ]
        }
      ]
    },
    {
      "cell_type": "markdown",
      "source": [
        "# Use crossvalidation technique"
      ],
      "metadata": {
        "id": "Ki--FHWmbsIv"
      }
    },
    {
      "cell_type": "code",
      "source": [
        "from sklearn.model_selection import cross_val_score\n",
        "from sklearn.linear_model import LogisticRegression\n",
        "\n",
        "# Define the features and target variable\n",
        "X = df[['redirect_partner', 'converted_to_b','conversion_revenue', 'expected_b_revenue']]\n",
        "y = df['converted_to_a']\n",
        "\n",
        "# Initialize the Logistic Regression model\n",
        "model = LogisticRegression()\n",
        "\n",
        "# Perform cross-validation with 5 folds\n",
        "scores = cross_val_score(model, X, y, cv=5)\n",
        "\n",
        "# Print the cross-validation scores\n",
        "print(\"Cross-validation scores:\", scores)\n",
        "print(\"Mean accuracy:\", scores.mean())\n"
      ],
      "metadata": {
        "colab": {
          "base_uri": "https://localhost:8080/"
        },
        "id": "hd8RetgcANWo",
        "outputId": "281777f1-3405-4651-8688-d14ad9eb55dc"
      },
      "execution_count": null,
      "outputs": [
        {
          "output_type": "stream",
          "name": "stdout",
          "text": [
            "Cross-validation scores: [0.99998408 0.99998408 0.99996817 1.         1.        ]\n",
            "Mean accuracy: 0.9999872672796934\n"
          ]
        }
      ]
    },
    {
      "cell_type": "markdown",
      "source": [
        "# Chech the overfitting"
      ],
      "metadata": {
        "id": "CJbf5LHtbi4w"
      }
    },
    {
      "cell_type": "code",
      "source": [
        "from sklearn.linear_model import Lasso, Ridge\n",
        "from sklearn.model_selection import train_test_split\n",
        "from sklearn.metrics import mean_squared_error\n",
        "\n",
        "# Step 1: Prepare the data\n",
        "X = df[['redirect_partner', 'converted_to_b','conversion_revenue', 'expected_b_revenue']]\n",
        "y = df['converted_to_a']\n",
        "\n",
        "# Step 2: Split the data into training and testing sets\n",
        "X_train, X_test, y_train, y_test = train_test_split(X, y, test_size=0.2, random_state=42)\n",
        "\n",
        "# Step 3: Initialize and train Lasso (L1 regularization) model\n",
        "lasso_model = Lasso(alpha=0.1)  # You can adjust the regularization strength by changing alpha\n",
        "lasso_model.fit(X_train, y_train)\n",
        "\n",
        "# Step 4: Make predictions on the testing set\n",
        "y_pred_lasso = lasso_model.predict(X_test)\n",
        "\n",
        "# Step 5: Evaluate the Lasso model\n",
        "mse_lasso = mean_squared_error(y_test, y_pred_lasso)\n",
        "print(\"Mean Squared Error (Lasso):\", mse_lasso)\n",
        "\n",
        "# Step 6: Initialize and train Ridge (L2 regularization) model\n",
        "ridge_model = Ridge(alpha=0.1)  # You can adjust the regularization strength by changing alpha\n",
        "ridge_model.fit(X_train, y_train)\n",
        "\n",
        "# Step 7: Make predictions on the testing set\n",
        "y_pred_ridge = ridge_model.predict(X_test)\n",
        "\n",
        "# Step 8: Evaluate the Ridge model\n",
        "mse_ridge = mean_squared_error(y_test, y_pred_ridge)\n",
        "print(\"Mean Squared Error (Ridge):\", mse_ridge)\n"
      ],
      "metadata": {
        "colab": {
          "base_uri": "https://localhost:8080/"
        },
        "id": "KDZa2c4LPDig",
        "outputId": "c708aa07-126e-48a3-cf37-af14ee4ee6ae"
      },
      "execution_count": null,
      "outputs": [
        {
          "output_type": "stream",
          "name": "stdout",
          "text": [
            "Mean Squared Error (Lasso): 0.00256471453100875\n",
            "Mean Squared Error (Ridge): 0.0007662405242924071\n"
          ]
        }
      ]
    }
  ]
}